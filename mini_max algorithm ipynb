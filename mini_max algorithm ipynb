{
 "cells": [
  {
   "cell_type": "code",
   "execution_count": null,
   "id": "df09da3d-07cd-4def-bd8e-1cbbaef24ee6",
   "metadata": {},
   "outputs": [],
   "source": [
    "#!/bin/python3\n",
    "\n",
    "import math\n",
    "import os\n",
    "import random\n",
    "import re\n",
    "import sys\n",
    "\n",
    "#\n",
    "# Complete the 'miniMaxSum' function below.\n",
    "#\n",
    "# The function accepts INTEGER_ARRAY arr as parameter.\n",
    "#\n",
    "\n",
    "def miniMaxSum(arr):\n",
    "    arr.sort()\n",
    "    hold = [None]*int(len(arr)-3)\n",
    "    for i in range(0,len(arr)-3):\n",
    "        temp = 0\n",
    "        for j in range(i,i+4):\n",
    "            temp = temp + arr[j]\n",
    "        hold[i] = temp\n",
    "    \n",
    "    print(hold[0],hold[-1])\n",
    "           \n",
    "\n",
    "if __name__ == '__main__':\n",
    "\n",
    "    arr = list(map(int, input().rstrip().split()))\n",
    "\n",
    "    miniMaxSum(arr)\n",
    " "
   ]
  }
 ],
 "metadata": {
  "kernelspec": {
   "display_name": "Python 3 (ipykernel)",
   "language": "python",
   "name": "python3"
  },
  "language_info": {
   "codemirror_mode": {
    "name": "ipython",
    "version": 3
   },
   "file_extension": ".py",
   "mimetype": "text/x-python",
   "name": "python",
   "nbconvert_exporter": "python",
   "pygments_lexer": "ipython3",
   "version": "3.9.12"
  }
 },
 "nbformat": 4,
 "nbformat_minor": 5
}
